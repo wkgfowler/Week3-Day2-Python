{
 "cells": [
  {
   "cell_type": "markdown",
   "metadata": {},
   "source": [
    "# Map, Filter, Reduce, Lambda & Recursion"
   ]
  },
  {
   "cell_type": "markdown",
   "metadata": {},
   "source": [
    "## Tasks Today:\n",
    "\n",
    "1) <b>Lambda Functions</b> <br>\n",
    " &nbsp;&nbsp;&nbsp;&nbsp; a) Syntax <br>\n",
    " &nbsp;&nbsp;&nbsp;&nbsp; b) Saving to a Variable <br>\n",
    " &nbsp;&nbsp;&nbsp;&nbsp; c) Multiple Inputs <br>\n",
    " &nbsp;&nbsp;&nbsp;&nbsp; d) Passing a Lambda into a Function <br>\n",
    " &nbsp;&nbsp;&nbsp;&nbsp; e) Returning a Lambda from a Function <br>\n",
    " &nbsp;&nbsp;&nbsp;&nbsp; f) In-Class Exercise #1 <br>\n",
    "2) <b>Map</b> <br>\n",
    " &nbsp;&nbsp;&nbsp;&nbsp; a) Syntax <br>\n",
    " &nbsp;&nbsp;&nbsp;&nbsp; b) Using Lambda's with Map <br>\n",
    " &nbsp;&nbsp;&nbsp;&nbsp; c) In-Class Exercise #2 <br>\n",
    "3) <b>Filter</b> <br>\n",
    " &nbsp;&nbsp;&nbsp;&nbsp; a) Syntax <br>\n",
    " &nbsp;&nbsp;&nbsp;&nbsp; b) Using Lambda's with Filter <br>\n",
    " &nbsp;&nbsp;&nbsp;&nbsp; c) In-Class Exercise #3 <br>\n",
    "4) <b>Reduce</b> <br>\n",
    " &nbsp;&nbsp;&nbsp;&nbsp; a) Syntax <br>\n",
    " &nbsp;&nbsp;&nbsp;&nbsp; b) Using Lambda's with Reduce <br>\n",
    " &nbsp;&nbsp;&nbsp;&nbsp; c) In-Class Exercise #4 <br>\n",
    "5) <b>Recursion</b> <br>\n",
    " &nbsp;&nbsp;&nbsp;&nbsp; a) Implementing a Base <br>\n",
    " &nbsp;&nbsp;&nbsp;&nbsp; b) Writing a Factorial Function <br>\n",
    " &nbsp;&nbsp;&nbsp;&nbsp; c) In-Class Exercise #5 <br>\n",
    "6) <b>Generators & Iterators</b> <br>\n",
    " &nbsp;&nbsp;&nbsp;&nbsp; a) Yield Keyword <br>\n",
    " &nbsp;&nbsp;&nbsp;&nbsp; b) Inifinite Generator <br>\n",
    " &nbsp;&nbsp;&nbsp;&nbsp; c) In-Class Exercise #6 <br>\n",
    "7) <b>Exercises</b> <br>\n",
    " &nbsp;&nbsp;&nbsp;&nbsp; a) Exercise #1 - Filtering Empty Strings <br>\n",
    " &nbsp;&nbsp;&nbsp;&nbsp; b) Exercise #2 - Sorting with Last Name <br>\n",
    " &nbsp;&nbsp;&nbsp;&nbsp; c) Exercise #3 - Conversion to Farhenheit <br>\n",
    " &nbsp;&nbsp;&nbsp;&nbsp; d) Exercise #4 - Fibonacci Sequence <br>"
   ]
  },
  {
   "cell_type": "markdown",
   "metadata": {},
   "source": [
    "## Lambda Functions <br>\n",
    "<p>Lambda functions... or \"Anonymous Functions\" are referring to inline functions with no name. The keyword lambda denotes the no name function, and executes within a single line. Without saving it to a variable; however, it is not able to be used, unless passed in either as a paramater or within list comprehension.<br>Written as \"(keyword lambda) (one or more inputs) (colon) (function to be executed)\"</p>"
   ]
  },
  {
   "cell_type": "markdown",
   "metadata": {},
   "source": [
    "#### Syntax"
   ]
  },
  {
   "cell_type": "code",
   "execution_count": 3,
   "metadata": {},
   "outputs": [
    {
     "name": "stdout",
     "output_type": "stream",
     "text": [
      "6\n",
      "6\n"
     ]
    }
   ],
   "source": [
    "def addTwo(n):\n",
    "    return n + 2\n",
    "\n",
    "print(addTwo(4))\n",
    "\n",
    "# Lambda Function Syntax\n",
    "# Example of callinh a lambda without a variable name\n",
    "\n",
    "print((lambda x: x+2)(4))"
   ]
  },
  {
   "cell_type": "markdown",
   "metadata": {},
   "source": [
    "#### Saving to a Variable"
   ]
  },
  {
   "cell_type": "code",
   "execution_count": 4,
   "metadata": {},
   "outputs": [
    {
     "data": {
      "text/plain": [
       "6"
      ]
     },
     "execution_count": 4,
     "metadata": {},
     "output_type": "execute_result"
    }
   ],
   "source": [
    "lambda_var = lambda x: x +2\n",
    "\n",
    "lambda_var(4)"
   ]
  },
  {
   "cell_type": "markdown",
   "metadata": {},
   "source": [
    "#### Multiple Inputs"
   ]
  },
  {
   "cell_type": "code",
   "execution_count": 6,
   "metadata": {},
   "outputs": [
    {
     "name": "stdout",
     "output_type": "stream",
     "text": [
      "30\n"
     ]
    },
    {
     "data": {
      "text/plain": [
       "30"
      ]
     },
     "execution_count": 6,
     "metadata": {},
     "output_type": "execute_result"
    }
   ],
   "source": [
    "# no variable\n",
    "print((lambda x,y,z: x*y*z)(3,5,2))\n",
    "\n",
    "# variable\n",
    "\n",
    "test = lambda x,y,z: x*y*z\n",
    "\n",
    "test(3,5,2)"
   ]
  },
  {
   "cell_type": "markdown",
   "metadata": {},
   "source": [
    "#### Passing a Lambda into a Function"
   ]
  },
  {
   "cell_type": "code",
   "execution_count": 7,
   "metadata": {},
   "outputs": [
    {
     "data": {
      "text/plain": [
       "16"
      ]
     },
     "execution_count": 7,
     "metadata": {},
     "output_type": "execute_result"
    }
   ],
   "source": [
    "def multiply(f, num):\n",
    "    \"\"\"\n",
    "        f expects a lambda funtion\n",
    "        num expects an integer\n",
    "    \"\"\"\n",
    "    return f(num)\n",
    "\n",
    "multiply(lambda x: x*x, 4)"
   ]
  },
  {
   "cell_type": "markdown",
   "metadata": {},
   "source": [
    "#### Returning a Lambda from a Function"
   ]
  },
  {
   "cell_type": "code",
   "execution_count": 12,
   "metadata": {},
   "outputs": [
    {
     "name": "stdout",
     "output_type": "stream",
     "text": [
      "<function returnFunc.<locals>.multiply at 0x000002708EC27310>\n",
      "8\n",
      "<function returnLambda.<locals>.<lambda> at 0x000002708EC27430>\n",
      "19\n"
     ]
    }
   ],
   "source": [
    "# Regular defined function\n",
    "def multiply_test(num):\n",
    "    return num * 4\n",
    "\n",
    "# Function within another funtion\n",
    "\n",
    "def returnFunc():\n",
    "    test = 4\n",
    "    def multiply(num):\n",
    "        return num * 2\n",
    "    return multiply\n",
    "\n",
    "print(returnFunc())\n",
    "\n",
    "f_storage = returnFunc()\n",
    "\n",
    "print(f_storage(4))\n",
    "\n",
    "# Lambda function return from a regular named function\n",
    "\n",
    "def returnLambda(b,c):\n",
    "    return lambda x,a: x + a + b + c\n",
    "\n",
    "r_lamb = returnLambda(4,5)\n",
    "# r_lamb = lambda x,z: x + a + 4 + 5\n",
    "print(r_lamb)\n",
    "print(r_lamb(5,5))"
   ]
  },
  {
   "cell_type": "markdown",
   "metadata": {},
   "source": [
    "#### If Statements within Lambdas"
   ]
  },
  {
   "cell_type": "code",
   "execution_count": 19,
   "metadata": {},
   "outputs": [
    {
     "name": "stdout",
     "output_type": "stream",
     "text": [
      "4\n"
     ]
    },
    {
     "data": {
      "text/plain": [
       "22"
      ]
     },
     "execution_count": 19,
     "metadata": {},
     "output_type": "execute_result"
    }
   ],
   "source": [
    "# lambda x: True if (condition) else False\n",
    "\n",
    "# Normal conditional inside of named function\n",
    "\n",
    "def conditional(n):\n",
    "    if n > 10:\n",
    "        return n * 2\n",
    "    else:\n",
    "        return n + 2\n",
    "    \n",
    "# anonymous function with conditional statement\n",
    "\n",
    "f_condition = lambda n: n * 2 if n > 10 else n + 2\n",
    "\n",
    "print(f_condition(2))\n",
    "f_condition(11)"
   ]
  },
  {
   "cell_type": "markdown",
   "metadata": {},
   "source": [
    "#### In-Class Exercise #1 <br>\n",
    "<p>Write an anonymous function that cubes the arguments passed in and assign the anonymous function to a variable 'f'.</p>"
   ]
  },
  {
   "cell_type": "code",
   "execution_count": 23,
   "metadata": {},
   "outputs": [
    {
     "name": "stdout",
     "output_type": "stream",
     "text": [
      "125\n"
     ]
    },
    {
     "data": {
      "text/plain": [
       "27"
      ]
     },
     "execution_count": 23,
     "metadata": {},
     "output_type": "execute_result"
    }
   ],
   "source": [
    "f_cubefunction = lambda f: f ** 3\n",
    "print(f_cubefunction(5))\n",
    "f_cubefunction(3)"
   ]
  },
  {
   "cell_type": "markdown",
   "metadata": {},
   "source": [
    "## Map <br>\n",
    "<p>The map function allows you to iterate over an entire list while running a function on each item of the list. This is why the map function works well with lambda's, because it simplifies things and you write less lines of code.<br>The syntax for a map function is \"map(function to be used, list to be used)\"<br>However, you must be careful, as the map function returns a map object, not a list. To turn it into a list we use the list() type conversion.</p>"
   ]
  },
  {
   "cell_type": "markdown",
   "metadata": {},
   "source": [
    "#### Syntax"
   ]
  },
  {
   "cell_type": "code",
   "execution_count": 31,
   "metadata": {},
   "outputs": [
    {
     "name": "stdout",
     "output_type": "stream",
     "text": [
      "[(4, 4), (9, 49), (10, 2), (15, 12), (20, 100)]\n"
     ]
    }
   ],
   "source": [
    "# map(function, iterable(list, dictionary, tuple, set))\n",
    "# Normally we use map with a user defined funtion but we can use lambdas as well\n",
    "\n",
    "def squared(num1, num2):\n",
    "    if num1 < 10 and num2 <10:\n",
    "        return num1 ** 2, num2 ** 2\n",
    "    else:\n",
    "        return num1, num2\n",
    "\n",
    "numbers = [2, 3, 10, 15, 20]\n",
    "more_numbers = [2, 7, 2, 12, 100]\n",
    "\n",
    "# Map functions return a Map Object - so your must wrap them in a list() to get values returned\n",
    "squared_nums_map = list(map(squared, numbers, more_numbers))\n",
    "print(squared_nums_map)"
   ]
  },
  {
   "cell_type": "markdown",
   "metadata": {},
   "source": [
    "#### Using Lambda's with Map"
   ]
  },
  {
   "cell_type": "code",
   "execution_count": 33,
   "metadata": {},
   "outputs": [
    {
     "name": "stdout",
     "output_type": "stream",
     "text": [
      "[(4, 4), (9, 49), (10, 2), (15, 12), (20, 100)]\n"
     ]
    }
   ],
   "source": [
    "# map(lambda x: x + 2, list)\n",
    "# using lambda in map, it happens in line - or on eon eline\n",
    "# list(map(lambda x : x * 2,nums))\n",
    "squared_nums_lamb = list(map(lambda x,y : (x ** 2,y ** 2) if x < 10 and y < 10 else (x,y),numbers,more_numbers))\n",
    "print(squared_nums_lamb)"
   ]
  },
  {
   "cell_type": "markdown",
   "metadata": {},
   "source": [
    "#### In-Class Exercise #2 <br>\n",
    "<p>Use the map function to double each number and minus it by one in the list by using a lambda function</p>"
   ]
  },
  {
   "cell_type": "code",
   "execution_count": 36,
   "metadata": {},
   "outputs": [
    {
     "name": "stdout",
     "output_type": "stream",
     "text": [
      "[19, 3, 5, 13, 199, 49]\n"
     ]
    }
   ],
   "source": [
    "f_twominusone = lambda x: x * 2 - 1\n",
    "nums = [10, 2, 3, 7, 100, 25]\n",
    "\n",
    "exercise = list(map(f_twominusone, nums))\n",
    "print(exercise)"
   ]
  },
  {
   "cell_type": "markdown",
   "metadata": {},
   "source": [
    "## Filter() <br>\n",
    "<p>Filter's are similar to the map function, where you're able to pass a function argument and a list argument and filter out something from the list based on the conditions passed. Similar to the map function, it returns a filter object, so you need to type convert it to a list()</p>"
   ]
  },
  {
   "cell_type": "markdown",
   "metadata": {},
   "source": [
    "#### Syntax"
   ]
  },
  {
   "cell_type": "code",
   "execution_count": 39,
   "metadata": {},
   "outputs": [
    {
     "name": "stdout",
     "output_type": "stream",
     "text": [
      "['Andy', 'Angelica']\n"
     ]
    }
   ],
   "source": [
    "names = ['Bob', 'Andy', 'Max', 'Evan', 'Angelica']\n",
    "\n",
    "def a_names(name):\n",
    "    if name[0].lower() == 'a':\n",
    "        return True\n",
    "    else:\n",
    "        return False\n",
    "    \n",
    "names_starting_a = list(filter(a_names, names))\n",
    "print(names_starting_a)"
   ]
  },
  {
   "cell_type": "markdown",
   "metadata": {},
   "source": [
    "#### Using Lambda's with Filter()"
   ]
  },
  {
   "cell_type": "code",
   "execution_count": 41,
   "metadata": {},
   "outputs": [
    {
     "name": "stdout",
     "output_type": "stream",
     "text": [
      "['Andy', 'Angelica']\n"
     ]
    }
   ],
   "source": [
    "new_names_lamb = list(filter(lambda name: True if name[0].lower() == 'a' else False, names))\n",
    "print(new_names_lamb)"
   ]
  },
  {
   "cell_type": "markdown",
   "metadata": {},
   "source": [
    "#### In-Class Exercise #3 <br>\n",
    "<p>Filter out all the numbers that are below the mean of the list.<br><b>Hint: Import the 'statistics' module</b></p>"
   ]
  },
  {
   "cell_type": "code",
   "execution_count": 46,
   "metadata": {},
   "outputs": [
    {
     "name": "stdout",
     "output_type": "stream",
     "text": [
      "[7, 9, 4.9]\n"
     ]
    }
   ],
   "source": [
    "from statistics import mean\n",
    "\n",
    "nums = [2, 7, 4.2, 1.6, 9, 4, 4.4, 4.9]\n",
    "\n",
    "avg = mean(nums)\n",
    "\n",
    "def aboveMean(number):\n",
    "    if number > avg:\n",
    "        return True\n",
    "    else:\n",
    "        return False\n",
    "    \n",
    "above_mean_list = list(filter(aboveMean, nums))\n",
    "print(above_mean_list)"
   ]
  },
  {
   "cell_type": "markdown",
   "metadata": {},
   "source": [
    "## Reduce() <br>\n",
    "<p>Be very careful when using this function, as of Python 3 it's been moved to the 'functools' library and no longer is a built-in function.<br>The creator of Python himself, says to just use a for loop instead.</p>"
   ]
  },
  {
   "cell_type": "markdown",
   "metadata": {},
   "source": [
    "#### Syntax"
   ]
  },
  {
   "cell_type": "code",
   "execution_count": 48,
   "metadata": {},
   "outputs": [
    {
     "name": "stdout",
     "output_type": "stream",
     "text": [
      "36\n",
      "-32\n"
     ]
    }
   ],
   "source": [
    "from functools import reduce\n",
    "\n",
    "# reduce(function, iterable)\n",
    "\n",
    "list_1 = [2, 4, 6, 8, 7, 9]\n",
    "\n",
    "def addNums(num1, num2):\n",
    "    return num1 +num2\n",
    "\n",
    "result_add = reduce(addNums, list_1)\n",
    "print(result_add)\n",
    "\n",
    "#subtraction example\n",
    "\n",
    "def subtractNums(num1, num2):\n",
    "    return num1-num2\n",
    "\n",
    "result_sub = reduce(subtractNums, list_1)\n",
    "print(result_sub)"
   ]
  },
  {
   "cell_type": "markdown",
   "metadata": {},
   "source": [
    "#### Using Lambda's with Reduce()"
   ]
  },
  {
   "cell_type": "code",
   "execution_count": 50,
   "metadata": {},
   "outputs": [
    {
     "name": "stdout",
     "output_type": "stream",
     "text": [
      "36\n"
     ]
    }
   ],
   "source": [
    "result_lamb = reduce(lambda x,y: x + y, list_1)\n",
    "print(result_lamb)"
   ]
  },
  {
   "cell_type": "markdown",
   "metadata": {},
   "source": [
    "#### In-Class Exercise #4 <br>\n",
    "<p>Use the reduce function to multiply the numbers in the list below together with a lambda function.</p>"
   ]
  },
  {
   "cell_type": "code",
   "execution_count": 51,
   "metadata": {},
   "outputs": [
    {
     "name": "stdout",
     "output_type": "stream",
     "text": [
      "24192\n"
     ]
    }
   ],
   "source": [
    "product_lamb = reduce(lambda x,y: x*y, list_1)\n",
    "print(product_lamb)"
   ]
  },
  {
   "cell_type": "markdown",
   "metadata": {},
   "source": [
    "## Recursion <br>\n",
    "<p>Recursion means that a function is calling itself, so it contanstly executes until a base case is reached. It will then push the returning values back up the chain until the function is complete. A prime example of recursion is computing factorials... such that 5! (factorial) is 5*4*3*2*1 which equals 120.</p>"
   ]
  },
  {
   "cell_type": "markdown",
   "metadata": {},
   "source": [
    "#### Implementing a Base Case"
   ]
  },
  {
   "cell_type": "code",
   "execution_count": 66,
   "metadata": {},
   "outputs": [
    {
     "name": "stdout",
     "output_type": "stream",
     "text": [
      "addNums(5) = 5 addNums(4)\n",
      "addNums(4) = 4 addNums(3)\n",
      "addNums(3) = 3 addNums(2)\n",
      "addNums(2) = 2 addNums(1)\n",
      "AddNums(1) = 1\n"
     ]
    },
    {
     "data": {
      "text/plain": [
       "15"
      ]
     },
     "execution_count": 66,
     "metadata": {},
     "output_type": "execute_result"
    }
   ],
   "source": [
    "def addNums(num):\n",
    "    # Set a base case for recursive function\n",
    "    if num <= 1:\n",
    "        print(\"AddNums(1) = 1\")\n",
    "        return num\n",
    "    else:\n",
    "        print(f\"addNums({num}) = {num} addNums({num -1})\")\n",
    "        return num + addNums(num -1)\n",
    "    \n",
    "addNums(5)"
   ]
  },
  {
   "cell_type": "markdown",
   "metadata": {},
   "source": [
    "#### Writing a Factorial Function"
   ]
  },
  {
   "cell_type": "code",
   "execution_count": 67,
   "metadata": {},
   "outputs": [
    {
     "data": {
      "text/plain": [
       "120"
      ]
     },
     "execution_count": 67,
     "metadata": {},
     "output_type": "execute_result"
    }
   ],
   "source": [
    "# 5! = 5 * 4 * 3 * 2 * 1\n",
    "def factorial(num):\n",
    "    if num <= 1:\n",
    "        return 1\n",
    "    else:\n",
    "        return num * factorial(num - 1)\n",
    "    \n",
    "factorial(5)\n"
   ]
  },
  {
   "cell_type": "code",
   "execution_count": 72,
   "metadata": {},
   "outputs": [
    {
     "data": {
      "text/plain": [
       "105"
      ]
     },
     "execution_count": 72,
     "metadata": {},
     "output_type": "execute_result"
    }
   ],
   "source": [
    "def addToTwenty(num):\n",
    "    if num >= 20:\n",
    "        return num\n",
    "    else:\n",
    "        return num + addToTwenty(num+1)\n",
    "    \n",
    "addToTwenty(15)"
   ]
  },
  {
   "cell_type": "markdown",
   "metadata": {},
   "source": [
    "#### In-Class Exercise #5 <br>\n",
    "<p>Write a recursive function that subtracts all numbers to the argument given.</p>"
   ]
  },
  {
   "cell_type": "code",
   "execution_count": 69,
   "metadata": {},
   "outputs": [
    {
     "data": {
      "text/plain": [
       "3"
      ]
     },
     "execution_count": 69,
     "metadata": {},
     "output_type": "execute_result"
    }
   ],
   "source": [
    "def subNum(num):\n",
    "    if num <=1 :\n",
    "        return 1\n",
    "    else:\n",
    "        return num - subNum(num-1)\n",
    "    \n",
    "subNum(5)"
   ]
  },
  {
   "cell_type": "markdown",
   "metadata": {},
   "source": [
    "## Generators <br>\n",
    "<p>Generators are a type of iterable, like lists or tuples. They do not allow indexing, but they can still be iterated through with for loops. They are created using functions and the yield statement.</p>"
   ]
  },
  {
   "cell_type": "markdown",
   "metadata": {},
   "source": [
    "#### Yield Keyword <br>\n",
    "<p>The yield keyword denotes a generator, it doesn't return so it won't leave the function and reset all variables in the function scope, instead it yields the number back to the caller.</p>"
   ]
  },
  {
   "cell_type": "code",
   "execution_count": 97,
   "metadata": {},
   "outputs": [
    {
     "name": "stdout",
     "output_type": "stream",
     "text": [
      "2\n",
      "4\n",
      "6\n",
      "8\n",
      "10\n",
      "12\n",
      "14\n",
      "16\n",
      "18\n"
     ]
    },
    {
     "data": {
      "text/plain": [
       "<generator object my_range at 0x000002708ED04580>"
      ]
     },
     "execution_count": 97,
     "metadata": {},
     "output_type": "execute_result"
    }
   ],
   "source": [
    "def my_range(stop, start, step = 2):\n",
    "    while start < stop:\n",
    "        yield start # yield keyword denotes a generator\n",
    "        start += step\n",
    "for i in my_range(20, start = 2):\n",
    "    my_generator_value = i\n",
    "    print(my_generator_value)\n",
    "\n",
    "my_range(20,start = 2)"
   ]
  },
  {
   "cell_type": "markdown",
   "metadata": {},
   "source": [
    "#### Infinite Generator"
   ]
  },
  {
   "cell_type": "code",
   "execution_count": null,
   "metadata": {},
   "outputs": [],
   "source": [
    "# bad, never create infinite loops"
   ]
  },
  {
   "cell_type": "markdown",
   "metadata": {},
   "source": [
    "#### In-Class Exercise #6 <br>\n",
    "<p>Create a generator that takes a number argument and yields that number squared, then prints each number squared until zero is reached.</p>"
   ]
  },
  {
   "cell_type": "code",
   "execution_count": 123,
   "metadata": {},
   "outputs": [
    {
     "name": "stdout",
     "output_type": "stream",
     "text": [
      "16\n",
      "9\n",
      "4\n",
      "1\n",
      "0\n"
     ]
    }
   ],
   "source": [
    "# for i in numbers_squared(10)\n",
    "\n",
    "def num_sq(stop,start,step = 1):\n",
    "    while start >= stop:\n",
    "        yield start ** 2\n",
    "        start -= step\n",
    "        \n",
    "for i in num_sq(0,start = 4):\n",
    "    print(i)"
   ]
  },
  {
   "cell_type": "markdown",
   "metadata": {},
   "source": [
    "# Exercises"
   ]
  },
  {
   "cell_type": "markdown",
   "metadata": {},
   "source": [
    "### Exercise #1 <br>\n",
    "<p>Filter out all of the empty strings from the list below</p>\n",
    "\n",
    "`Output: ['Argentina', 'San Diego', 'Boston', 'New York']`"
   ]
  },
  {
   "cell_type": "code",
   "execution_count": 53,
   "metadata": {},
   "outputs": [
    {
     "name": "stdout",
     "output_type": "stream",
     "text": [
      "['Argentina', 'San Diego', 'Boston', 'New York']\n"
     ]
    }
   ],
   "source": [
    "places = [\" \",\"Argentina\", \" \", \"San Diego\",\"\",\"  \",\"\",\"Boston\",\"New York\"]\n",
    "\n",
    "def cityNames(name):\n",
    "    if name == \"\":\n",
    "        return False\n",
    "    elif name == \" \":\n",
    "        return False\n",
    "    elif name == \"  \":\n",
    "        return False\n",
    "    else:\n",
    "        return True\n",
    "    \n",
    "proper_city_names = list(filter(cityNames, places))\n",
    "print(proper_city_names)"
   ]
  },
  {
   "cell_type": "code",
   "execution_count": 58,
   "metadata": {},
   "outputs": [
    {
     "name": "stdout",
     "output_type": "stream",
     "text": [
      "[' ', 'Argentina', ' ', 'San Diego', '', '  ', '', 'Boston', 'New York']\n"
     ]
    }
   ],
   "source": [
    "import re\n",
    "\n",
    "def cityNames2(name):\n",
    "    if name == None:\n",
    "        return False\n",
    "    else:\n",
    "        return True\n",
    "    \n",
    "proper_city_names2 = list(filter(cityNames2, places))\n",
    "print(proper_city_names2)"
   ]
  },
  {
   "cell_type": "markdown",
   "metadata": {},
   "source": [
    "### Exercise #2 <br>\n",
    "<p>Write an anonymous function that sorts this list by the last name...<br><b>Hint: Use the \".sort()\" method and access the key\"</b></p>\n",
    "\n",
    "`Output: ['Victor aNisimov', 'Gary A.J. Bernstein', 'Joel Carter', 'Andrew P. Garfield', 'David hassELHOFF']`"
   ]
  },
  {
   "cell_type": "code",
   "execution_count": 64,
   "metadata": {},
   "outputs": [
    {
     "name": "stdout",
     "output_type": "stream",
     "text": [
      "['Victor aNisimov', 'Gary A.J. Bernstein', 'Joel Carter', 'Andrew P. Garfield', 'David hassELHOFF']\n"
     ]
    }
   ],
   "source": [
    "author = [\"Joel Carter\", \"Victor aNisimov\", \"Andrew P. Garfield\",\"David hassELHOFF\",\"Gary A.J. Bernstein\"]\n",
    "\n",
    "author.sort(key = lambda name: name.split(\" \")[-1].lower()) \n",
    "\n",
    "print(author)"
   ]
  },
  {
   "cell_type": "markdown",
   "metadata": {},
   "source": [
    "### Exercise #3 <br>\n",
    "<p>Convert the list below from Celsius to Farhenheit, using the map function with a lambda...</p>\n",
    "\n",
    "`Output: [('Nashua', 89.6), ('Boston', 53.6), ('Los Angelos', 111.2), ('Miami', 84.2)]\n",
    "`"
   ]
  },
  {
   "cell_type": "code",
   "execution_count": 174,
   "metadata": {},
   "outputs": [
    {
     "name": "stdout",
     "output_type": "stream",
     "text": [
      "[32, 12, 44, 29]\n",
      "['Nashua', 'Boston', 'Los Angelos', 'Miami']\n",
      "[('Nashua', 89.6), ('Boston', 53.6), ('Los Angelos', 111.2), ('Miami', 84.2)]\n"
     ]
    }
   ],
   "source": [
    "# F = (9/5)*C + 32\n",
    "places = [('Nashua',32),(\"Boston\",12),(\"Los Angelos\",44),(\"Miami\",29)]\n",
    "\n",
    "place1 = list(places[0])\n",
    "place2 = list(places[1])\n",
    "place3 = list(places[2])\n",
    "place4 = list(places[3])\n",
    "\n",
    "places_list = place1 + place2 + place3 + place4\n",
    "\n",
    "celtemp = []\n",
    "\n",
    "for x in places_list:\n",
    "    if type(x) == int:\n",
    "        celtemp.append(x)\n",
    "        places_list.remove(x)\n",
    "        \n",
    "print(celtemp)\n",
    "print(places_list)\n",
    "\n",
    "\n",
    "cel_to_far = lambda x,y: (y,((9/5) * x +32))\n",
    "\n",
    "fartemp = list(map(cel_to_far, celtemp, places_list))\n",
    "print(fartemp)"
   ]
  },
  {
   "cell_type": "code",
   "execution_count": 165,
   "metadata": {},
   "outputs": [
    {
     "name": "stdout",
     "output_type": "stream",
     "text": [
      "[('Nashua', 89.6), ('Boston', 53.6), ('Los Angelos', 111.2), ('Miami', 84.2)]\n"
     ]
    }
   ],
   "source": [
    "places = [('Nashua',32),(\"Boston\",12),(\"Los Angelos\",44),(\"Miami\",29)]\n",
    "\n",
    "\n",
    "result = list(map(lambda x: (x[0],(9/5)*x[1] +32), places))\n",
    "print(result)"
   ]
  },
  {
   "cell_type": "markdown",
   "metadata": {},
   "source": [
    "### Exercise #4 <br>\n",
    "<p>Write a recursion function to perform the fibonacci sequence up to the number passed in.</p>\n",
    "\n",
    "`Output for fib(5) => \n",
    "Iteration 0: 1\n",
    "Iteration 1: 1\n",
    "Iteration 2: 2\n",
    "Iteration 3: 3\n",
    "Iteration 4: 5\n",
    "Iteration 5: 8`"
   ]
  },
  {
   "cell_type": "code",
   "execution_count": 132,
   "metadata": {
    "scrolled": true
   },
   "outputs": [
    {
     "name": "stdout",
     "output_type": "stream",
     "text": [
      "0\n",
      "1\n",
      "1\n",
      "2\n",
      "3\n",
      "5\n",
      "8\n",
      "13\n",
      "21\n"
     ]
    }
   ],
   "source": [
    "def FibSeq(num):\n",
    "    if num <= 1:\n",
    "        return num\n",
    "    else:\n",
    "        return(FibSeq(num-1) + FibSeq(num-2))\n",
    "\n",
    "print(FibSeq(0))    \n",
    "print(FibSeq(1))    \n",
    "print(FibSeq(2))    \n",
    "print(FibSeq(3))    \n",
    "print(FibSeq(4))    \n",
    "print(FibSeq(5))    \n",
    "print(FibSeq(6))    \n",
    "print(FibSeq(7))    \n",
    "print(FibSeq(8))"
   ]
  },
  {
   "cell_type": "code",
   "execution_count": null,
   "metadata": {},
   "outputs": [],
   "source": []
  }
 ],
 "metadata": {
  "kernelspec": {
   "display_name": "Python 3",
   "language": "python",
   "name": "python3"
  },
  "language_info": {
   "codemirror_mode": {
    "name": "ipython",
    "version": 3
   },
   "file_extension": ".py",
   "mimetype": "text/x-python",
   "name": "python",
   "nbconvert_exporter": "python",
   "pygments_lexer": "ipython3",
   "version": "3.8.5"
  }
 },
 "nbformat": 4,
 "nbformat_minor": 2
}
